{
 "cells": [
  {
   "cell_type": "markdown",
   "id": "31ff32a6-8721-47ac-b19b-a8585ff5cc38",
   "metadata": {},
   "source": [
    "# Introduction to Python and git/github\n",
    "Can you open this notebook?  <br>\n",
    "You should install the following applications.  <br> \n",
    "- git/github\n",
    "- sourcetree (GUI for git/github)\n",
    "- anaconda (for opening jupyter notebook)  or Docker. "
   ]
  },
  {
   "cell_type": "markdown",
   "id": "7c34ace3-e854-4e57-888f-7e5c246e8a9a",
   "metadata": {},
   "source": [
    "# Basics of Python "
   ]
  },
  {
   "cell_type": "markdown",
   "id": "34b41f16-fd37-4792-9ca8-4d3df1b7937f",
   "metadata": {},
   "source": [
    "## Arithmatic operation "
   ]
  },
  {
   "cell_type": "code",
   "execution_count": 1,
   "id": "4e670f0e-2b39-48a9-b275-86d51771f042",
   "metadata": {},
   "outputs": [
    {
     "name": "stdout",
     "output_type": "stream",
     "text": [
      "1\n"
     ]
    }
   ],
   "source": [
    "a = 1\n",
    "print(a)"
   ]
  },
  {
   "cell_type": "code",
   "execution_count": 2,
   "id": "38f055b2-2c7d-423f-b85d-5ec1ce62a155",
   "metadata": {},
   "outputs": [
    {
     "data": {
      "text/plain": [
       "1"
      ]
     },
     "execution_count": 2,
     "metadata": {},
     "output_type": "execute_result"
    }
   ],
   "source": [
    "a"
   ]
  },
  {
   "cell_type": "code",
   "execution_count": 4,
   "id": "86b14fa1-ffc5-4997-a20c-3aa49cb67ed0",
   "metadata": {},
   "outputs": [
    {
     "name": "stdout",
     "output_type": "stream",
     "text": [
      "3 -3 3 0.25\n"
     ]
    }
   ],
   "source": [
    "a = 1 + 2 \n",
    "b = 1 - 4 \n",
    "c = 1 * 3\n",
    "d = 1 / 4\n",
    "print(a,b,c,d)"
   ]
  },
  {
   "cell_type": "markdown",
   "id": "09a70b87-6d9c-4aa6-b89d-6c35128ef6d2",
   "metadata": {},
   "source": [
    "### Problem. "
   ]
  },
  {
   "cell_type": "code",
   "execution_count": 5,
   "id": "42472bdd-e038-4a6f-b787-2a4c5c960408",
   "metadata": {},
   "outputs": [
    {
     "name": "stdout",
     "output_type": "stream",
     "text": [
      "1\n"
     ]
    }
   ],
   "source": [
    "\"\"\"Git answers below. \n",
    "1 + 2*3 - 4/10 + 1 \n",
    "\"\"\"\n",
    "a = 1 \n",
    "print(a)"
   ]
  },
  {
   "cell_type": "markdown",
   "id": "f5c17600-c715-41ac-9178-b1dff6a33188",
   "metadata": {},
   "source": [
    "## Variables "
   ]
  },
  {
   "cell_type": "code",
   "execution_count": 6,
   "id": "e34ae147-ff4d-4443-99d6-971799edab85",
   "metadata": {},
   "outputs": [
    {
     "name": "stdout",
     "output_type": "stream",
     "text": [
      "-11\n"
     ]
    }
   ],
   "source": [
    "a = 1 + 3 \n",
    "b = 4 + 7 \n",
    "c = a + b \n",
    "d = a - c \n",
    "print(d)"
   ]
  },
  {
   "cell_type": "code",
   "execution_count": 7,
   "id": "645a0fe2-0187-454f-807c-f5cec00e6b01",
   "metadata": {},
   "outputs": [
    {
     "name": "stdout",
     "output_type": "stream",
     "text": [
      "1\n",
      "4\n"
     ]
    }
   ],
   "source": [
    "a = 1 \n",
    "print(a)\n",
    "b = 3 \n",
    "a = a +  b\n",
    "print(a)\n"
   ]
  },
  {
   "cell_type": "markdown",
   "id": "f4b8b78e-730b-4677-905e-3b3e3777cae0",
   "metadata": {},
   "source": [
    "## For "
   ]
  },
  {
   "cell_type": "code",
   "execution_count": 10,
   "id": "2c09823a-793f-4bb3-9fab-2e75e9fecce8",
   "metadata": {},
   "outputs": [
    {
     "data": {
      "text/plain": [
       "[1, 2, 3]"
      ]
     },
     "execution_count": 10,
     "metadata": {},
     "output_type": "execute_result"
    }
   ],
   "source": [
    "l = [1,2,3, 4, 5]\n",
    "l[:3]"
   ]
  },
  {
   "cell_type": "code",
   "execution_count": 26,
   "id": "beffe88f-c6e5-4936-9d1a-1b174eafaae0",
   "metadata": {},
   "outputs": [
    {
     "name": "stdout",
     "output_type": "stream",
     "text": [
      "0\n",
      "2\n",
      "4\n",
      "6\n",
      "8\n",
      "10\n"
     ]
    }
   ],
   "source": [
    "a = 3 \n",
    "b = 7\n",
    "c = 12 \n",
    "for i in range(0,c, 2):\n",
    "    print(i)"
   ]
  },
  {
   "cell_type": "code",
   "execution_count": 20,
   "id": "331e7ddb-5ac7-44b1-854e-2e4b6b604815",
   "metadata": {},
   "outputs": [
    {
     "name": "stdout",
     "output_type": "stream",
     "text": [
      "3\n",
      "4\n",
      "5\n",
      "6\n"
     ]
    }
   ],
   "source": [
    "for i in range(a, b):\n",
    "    print(i)"
   ]
  },
  {
   "cell_type": "code",
   "execution_count": 21,
   "id": "ade47c50-be59-4af7-9c6f-148b29fc777d",
   "metadata": {},
   "outputs": [
    {
     "name": "stdout",
     "output_type": "stream",
     "text": [
      "7\n",
      "8\n",
      "9\n",
      "10\n",
      "11\n"
     ]
    }
   ],
   "source": [
    "for i in range(b, c):\n",
    "    print(i)"
   ]
  },
  {
   "cell_type": "code",
   "execution_count": 11,
   "id": "db9f9ffa-1309-400f-966f-6e3c522f3bcc",
   "metadata": {},
   "outputs": [
    {
     "name": "stdout",
     "output_type": "stream",
     "text": [
      "0\n",
      "1\n",
      "2\n",
      "3\n",
      "4\n",
      "5\n",
      "6\n",
      "7\n",
      "8\n",
      "9\n"
     ]
    }
   ],
   "source": [
    "for i in range(10):\n",
    "    print(i)"
   ]
  },
  {
   "cell_type": "markdown",
   "id": "eb00a609-208f-46d7-9d76-78a8d5fd4801",
   "metadata": {},
   "source": [
    "# aadfa"
   ]
  },
  {
   "cell_type": "code",
   "execution_count": 32,
   "id": "01dfcfce-f7b3-45b6-b021-a27ca45ee41e",
   "metadata": {},
   "outputs": [
    {
     "name": "stdout",
     "output_type": "stream",
     "text": [
      "0\n",
      "1\n",
      "2\n",
      "3\n",
      "4\n",
      "5\n",
      "6\n",
      "7\n",
      "8\n",
      "9\n"
     ]
    }
   ],
   "source": [
    "for i in range(10):\n",
    "    print(i)"
   ]
  },
  {
   "cell_type": "markdown",
   "id": "081d87c2-bb50-4952-a114-2d6d2b11dfd6",
   "metadata": {},
   "source": [
    "### Problem\n",
    "Calculate and output, i*5 from i = 1 to 20"
   ]
  },
  {
   "cell_type": "code",
   "execution_count": 28,
   "id": "b7325ad9-f2b7-41a6-b355-e2978fadbe31",
   "metadata": {},
   "outputs": [
    {
     "name": "stdout",
     "output_type": "stream",
     "text": [
      "5\n",
      "10\n",
      "15\n",
      "20\n",
      "25\n",
      "30\n",
      "35\n",
      "40\n",
      "45\n",
      "50\n",
      "55\n",
      "60\n",
      "65\n",
      "70\n",
      "75\n",
      "80\n",
      "85\n",
      "90\n",
      "95\n",
      "100\n"
     ]
    }
   ],
   "source": [
    "for i in range(1, 21):\n",
    "    print(i*5)"
   ]
  },
  {
   "cell_type": "markdown",
   "id": "b1d2836c-ae90-4368-b187-ab68836ef624",
   "metadata": {},
   "source": [
    "## String"
   ]
  },
  {
   "cell_type": "code",
   "execution_count": 29,
   "id": "fb4e48ff-888b-41e7-95ad-72a816648203",
   "metadata": {},
   "outputs": [
    {
     "name": "stdout",
     "output_type": "stream",
     "text": [
      "funny funny funny funny \n"
     ]
    }
   ],
   "source": [
    "s = \"funny funny \"\n",
    "s2 = 'adf \" \" asdf a'\n",
    "print(s + s )"
   ]
  },
  {
   "cell_type": "code",
   "execution_count": 35,
   "id": "ad99d21e-275a-441c-bca9-1d8b41ab8269",
   "metadata": {},
   "outputs": [
    {
     "data": {
      "text/plain": [
       "'  adfafa funny funnyadfafa '"
      ]
     },
     "execution_count": 35,
     "metadata": {},
     "output_type": "execute_result"
    }
   ],
   "source": [
    "s3 = \"funny funny\"\n",
    "s4 = f\"  adfafa {s3}adfafa \" \n",
    "s4"
   ]
  },
  {
   "cell_type": "code",
   "execution_count": 36,
   "id": "ed80366b-34dc-4b54-8b3e-af4b8ba31a67",
   "metadata": {},
   "outputs": [
    {
     "data": {
      "text/plain": [
       "'f'"
      ]
     },
     "execution_count": 36,
     "metadata": {},
     "output_type": "execute_result"
    }
   ],
   "source": [
    "s[0]"
   ]
  },
  {
   "cell_type": "code",
   "execution_count": 40,
   "id": "780f6b22-fc9b-41c9-8b60-552005fbe1c3",
   "metadata": {},
   "outputs": [
    {
     "name": "stdout",
     "output_type": "stream",
     "text": [
      "s[0], s[1], s[2], s[3], y\n"
     ]
    }
   ],
   "source": [
    "print(f\"s[0], s[1], s[2], s[3], {s[4]}\")"
   ]
  },
  {
   "cell_type": "markdown",
   "id": "8db34c25-9080-4845-b9dc-207d0160eac5",
   "metadata": {},
   "source": [
    "## List "
   ]
  },
  {
   "cell_type": "code",
   "execution_count": 53,
   "id": "41418a3d-9885-48e4-ae8e-f7703ad9dba2",
   "metadata": {},
   "outputs": [],
   "source": [
    "l = [1, 2, 3]\n",
    "l2 = [ 1, \"a\", \"b\"]"
   ]
  },
  {
   "cell_type": "code",
   "execution_count": 54,
   "id": "7c78279c-b049-4520-9182-d6321dd982e4",
   "metadata": {},
   "outputs": [
    {
     "data": {
      "text/plain": [
       "[1, 2, 3]"
      ]
     },
     "execution_count": 54,
     "metadata": {},
     "output_type": "execute_result"
    }
   ],
   "source": [
    "l"
   ]
  },
  {
   "cell_type": "code",
   "execution_count": 55,
   "id": "515048df-e551-4876-ae75-580924961c6b",
   "metadata": {},
   "outputs": [
    {
     "data": {
      "text/plain": [
       "3"
      ]
     },
     "execution_count": 55,
     "metadata": {},
     "output_type": "execute_result"
    }
   ],
   "source": [
    "l[2]"
   ]
  },
  {
   "cell_type": "code",
   "execution_count": 56,
   "id": "77969b45-d8ce-49fc-9fa7-cdcd9a3d702d",
   "metadata": {},
   "outputs": [
    {
     "data": {
      "text/plain": [
       "[1, 'a', 'b']"
      ]
     },
     "execution_count": 56,
     "metadata": {},
     "output_type": "execute_result"
    }
   ],
   "source": [
    "l2"
   ]
  },
  {
   "cell_type": "code",
   "execution_count": 57,
   "id": "8bcd7ce3-d9bb-43f3-a35b-8710d83fd55a",
   "metadata": {},
   "outputs": [
    {
     "name": "stdout",
     "output_type": "stream",
     "text": [
      "1\n",
      "a\n",
      "b\n"
     ]
    }
   ],
   "source": [
    "# can use for. \n",
    "for ll in l2:\n",
    "    print(ll)"
   ]
  },
  {
   "cell_type": "code",
   "execution_count": 58,
   "id": "439820ce-5847-4b76-a260-c12a59de0b97",
   "metadata": {},
   "outputs": [
    {
     "data": {
      "text/plain": [
       "[1, 2, 3, 4, 'str']"
      ]
     },
     "execution_count": 58,
     "metadata": {},
     "output_type": "execute_result"
    }
   ],
   "source": [
    "# add element \n",
    "l.append(4)\n",
    "l.append(\"str\")\n",
    "l"
   ]
  },
  {
   "cell_type": "code",
   "execution_count": null,
   "id": "2aaa4eac-ff83-468c-bb60-461b69d68fd3",
   "metadata": {},
   "outputs": [],
   "source": [
    "l = [0 , 1, 23 , 9, 0, 1,2 ,3 , 9 ]"
   ]
  },
  {
   "cell_type": "code",
   "execution_count": null,
   "id": "a5e6f768-7a88-4839-b0e0-52be4e934f4a",
   "metadata": {},
   "outputs": [],
   "source": [
    "l = []\n",
    "for i in range(10):\n",
    "    l.append(i)"
   ]
  },
  {
   "cell_type": "code",
   "execution_count": 81,
   "id": "d9d63b45-a05e-4c01-9cdd-ca078b74912e",
   "metadata": {},
   "outputs": [],
   "source": [
    "l = []\n",
    "for i in range(5):\n",
    "    for j in range(5):\n",
    "        #print(f\"i : {i}, j : {j}\")\n",
    "        l.append(i)"
   ]
  },
  {
   "cell_type": "code",
   "execution_count": 83,
   "id": "709d4132-a940-489c-b35d-61d355f2653b",
   "metadata": {},
   "outputs": [],
   "source": [
    "l = [i for i in range(10)]"
   ]
  },
  {
   "cell_type": "code",
   "execution_count": 84,
   "id": "0e3e9b63-c2e0-4eb6-9639-9fe131023341",
   "metadata": {},
   "outputs": [],
   "source": [
    "l = [j for i in range(10)  \n",
    "         for j in range(10)\n",
    "    ]"
   ]
  },
  {
   "cell_type": "code",
   "execution_count": 85,
   "id": "d54023db-9662-4f13-8c3d-4c6aa6d9424b",
   "metadata": {},
   "outputs": [
    {
     "name": "stdout",
     "output_type": "stream",
     "text": [
      "[0, 1, 2, 3, 4, 5, 6, 7, 8, 9, 0, 1, 2, 3, 4, 5, 6, 7, 8, 9, 0, 1, 2, 3, 4, 5, 6, 7, 8, 9, 0, 1, 2, 3, 4, 5, 6, 7, 8, 9, 0, 1, 2, 3, 4, 5, 6, 7, 8, 9, 0, 1, 2, 3, 4, 5, 6, 7, 8, 9, 0, 1, 2, 3, 4, 5, 6, 7, 8, 9, 0, 1, 2, 3, 4, 5, 6, 7, 8, 9, 0, 1, 2, 3, 4, 5, 6, 7, 8, 9, 0, 1, 2, 3, 4, 5, 6, 7, 8, 9]\n"
     ]
    }
   ],
   "source": [
    "print(l)"
   ]
  },
  {
   "cell_type": "code",
   "execution_count": 71,
   "id": "6a6ba310-2cfd-44d6-8182-ed48bb6a2001",
   "metadata": {},
   "outputs": [],
   "source": [
    "l = [ i for i in range(10)]"
   ]
  },
  {
   "cell_type": "markdown",
   "id": "a5cc6d9c-1541-4e89-85ef-4222461ad270",
   "metadata": {},
   "source": [
    "### Problem \n",
    "write fibonacci from 1 to 100"
   ]
  },
  {
   "cell_type": "code",
   "execution_count": 64,
   "id": "63fd884d-d7ce-4c97-9e1e-7147d28889f7",
   "metadata": {},
   "outputs": [],
   "source": [
    "a = 1 \n",
    "b = 1 \n",
    "res = [a,b ]\n",
    "for i in range(98):\n",
    "    c = a + b \n",
    "    a = b\n",
    "    b = c \n",
    "    res.append(c)"
   ]
  },
  {
   "cell_type": "code",
   "execution_count": 65,
   "id": "cf59549d-c7ed-4646-9186-82c964d7e14c",
   "metadata": {},
   "outputs": [
    {
     "data": {
      "text/plain": [
       "[1,\n",
       " 1,\n",
       " 2,\n",
       " 3,\n",
       " 5,\n",
       " 8,\n",
       " 13,\n",
       " 21,\n",
       " 34,\n",
       " 55,\n",
       " 89,\n",
       " 144,\n",
       " 233,\n",
       " 377,\n",
       " 610,\n",
       " 987,\n",
       " 1597,\n",
       " 2584,\n",
       " 4181,\n",
       " 6765,\n",
       " 10946,\n",
       " 17711,\n",
       " 28657,\n",
       " 46368,\n",
       " 75025,\n",
       " 121393,\n",
       " 196418,\n",
       " 317811,\n",
       " 514229,\n",
       " 832040,\n",
       " 1346269,\n",
       " 2178309,\n",
       " 3524578,\n",
       " 5702887,\n",
       " 9227465,\n",
       " 14930352,\n",
       " 24157817,\n",
       " 39088169,\n",
       " 63245986,\n",
       " 102334155,\n",
       " 165580141,\n",
       " 267914296,\n",
       " 433494437,\n",
       " 701408733,\n",
       " 1134903170,\n",
       " 1836311903,\n",
       " 2971215073,\n",
       " 4807526976,\n",
       " 7778742049,\n",
       " 12586269025,\n",
       " 20365011074,\n",
       " 32951280099,\n",
       " 53316291173,\n",
       " 86267571272,\n",
       " 139583862445,\n",
       " 225851433717,\n",
       " 365435296162,\n",
       " 591286729879,\n",
       " 956722026041,\n",
       " 1548008755920,\n",
       " 2504730781961,\n",
       " 4052739537881,\n",
       " 6557470319842,\n",
       " 10610209857723,\n",
       " 17167680177565,\n",
       " 27777890035288,\n",
       " 44945570212853,\n",
       " 72723460248141,\n",
       " 117669030460994,\n",
       " 190392490709135,\n",
       " 308061521170129,\n",
       " 498454011879264,\n",
       " 806515533049393,\n",
       " 1304969544928657,\n",
       " 2111485077978050,\n",
       " 3416454622906707,\n",
       " 5527939700884757,\n",
       " 8944394323791464,\n",
       " 14472334024676221,\n",
       " 23416728348467685,\n",
       " 37889062373143906,\n",
       " 61305790721611591,\n",
       " 99194853094755497,\n",
       " 160500643816367088,\n",
       " 259695496911122585,\n",
       " 420196140727489673,\n",
       " 679891637638612258,\n",
       " 1100087778366101931,\n",
       " 1779979416004714189,\n",
       " 2880067194370816120,\n",
       " 4660046610375530309,\n",
       " 7540113804746346429,\n",
       " 12200160415121876738,\n",
       " 19740274219868223167,\n",
       " 31940434634990099905,\n",
       " 51680708854858323072,\n",
       " 83621143489848422977,\n",
       " 135301852344706746049,\n",
       " 218922995834555169026,\n",
       " 354224848179261915075]"
      ]
     },
     "execution_count": 65,
     "metadata": {},
     "output_type": "execute_result"
    }
   ],
   "source": [
    "res"
   ]
  },
  {
   "cell_type": "markdown",
   "id": "a51b57cc-ed99-4d78-8d29-77a55dd34c2f",
   "metadata": {},
   "source": [
    "# Pandas  "
   ]
  },
  {
   "cell_type": "code",
   "execution_count": 86,
   "id": "ff335669-d861-45c2-b1e2-8d3b18ca3ffb",
   "metadata": {},
   "outputs": [],
   "source": [
    "import numpy as np \n",
    "import pandas as pd"
   ]
  },
  {
   "cell_type": "code",
   "execution_count": 89,
   "id": "c2dea72a-065a-4909-a30b-40e3c8d8f8f5",
   "metadata": {},
   "outputs": [
    {
     "data": {
      "text/html": [
       "<div>\n",
       "<style scoped>\n",
       "    .dataframe tbody tr th:only-of-type {\n",
       "        vertical-align: middle;\n",
       "    }\n",
       "\n",
       "    .dataframe tbody tr th {\n",
       "        vertical-align: top;\n",
       "    }\n",
       "\n",
       "    .dataframe thead th {\n",
       "        text-align: right;\n",
       "    }\n",
       "</style>\n",
       "<table border=\"1\" class=\"dataframe\">\n",
       "  <thead>\n",
       "    <tr style=\"text-align: right;\">\n",
       "      <th></th>\n",
       "      <th>a</th>\n",
       "      <th>b</th>\n",
       "      <th>c</th>\n",
       "    </tr>\n",
       "  </thead>\n",
       "  <tbody>\n",
       "    <tr>\n",
       "      <th>0</th>\n",
       "      <td>0</td>\n",
       "      <td>1</td>\n",
       "      <td>test1</td>\n",
       "    </tr>\n",
       "    <tr>\n",
       "      <th>1</th>\n",
       "      <td>1</td>\n",
       "      <td>0</td>\n",
       "      <td>test2</td>\n",
       "    </tr>\n",
       "    <tr>\n",
       "      <th>2</th>\n",
       "      <td>0</td>\n",
       "      <td>2</td>\n",
       "      <td>test3</td>\n",
       "    </tr>\n",
       "    <tr>\n",
       "      <th>3</th>\n",
       "      <td>1</td>\n",
       "      <td>5</td>\n",
       "      <td>test1</td>\n",
       "    </tr>\n",
       "    <tr>\n",
       "      <th>4</th>\n",
       "      <td>1</td>\n",
       "      <td>4</td>\n",
       "      <td>NaN</td>\n",
       "    </tr>\n",
       "    <tr>\n",
       "      <th>5</th>\n",
       "      <td>1</td>\n",
       "      <td>5</td>\n",
       "      <td>test2</td>\n",
       "    </tr>\n",
       "    <tr>\n",
       "      <th>6</th>\n",
       "      <td>1</td>\n",
       "      <td>2</td>\n",
       "      <td>test2</td>\n",
       "    </tr>\n",
       "    <tr>\n",
       "      <th>7</th>\n",
       "      <td>0</td>\n",
       "      <td>5</td>\n",
       "      <td>2</td>\n",
       "    </tr>\n",
       "    <tr>\n",
       "      <th>8</th>\n",
       "      <td>1</td>\n",
       "      <td>1</td>\n",
       "      <td>2</td>\n",
       "    </tr>\n",
       "    <tr>\n",
       "      <th>9</th>\n",
       "      <td>1</td>\n",
       "      <td>3</td>\n",
       "      <td>test2</td>\n",
       "    </tr>\n",
       "    <tr>\n",
       "      <th>10</th>\n",
       "      <td>0</td>\n",
       "      <td>2</td>\n",
       "      <td>2</td>\n",
       "    </tr>\n",
       "  </tbody>\n",
       "</table>\n",
       "</div>"
      ],
      "text/plain": [
       "    a  b      c\n",
       "0   0  1  test1\n",
       "1   1  0  test2\n",
       "2   0  2  test3\n",
       "3   1  5  test1\n",
       "4   1  4    NaN\n",
       "5   1  5  test2\n",
       "6   1  2  test2\n",
       "7   0  5      2\n",
       "8   1  1      2\n",
       "9   1  3  test2\n",
       "10  0  2      2"
      ]
     },
     "metadata": {},
     "output_type": "display_data"
    }
   ],
   "source": [
    "df = pd.DataFrame({\n",
    "    \"a\":[0, 1, 0, 1, 1, 1, 1, 0, 1, 1, 0],\n",
    "    \"b\":[1, 0, 2, 5, 4, 5, 2, 5, 1, 3, 2],\n",
    "    \"c\":[\"test1\",  \"test2\", \"test3\", \"test1\", np.nan, \"test2\", \"test2\", 2, 2, \"test2\", 2]\n",
    "    })\n",
    "display(df)"
   ]
  },
  {
   "cell_type": "code",
   "execution_count": 90,
   "id": "efa05132-99e9-43d3-8344-0ea53be7bff7",
   "metadata": {},
   "outputs": [
    {
     "data": {
      "text/plain": [
       "1    7\n",
       "0    4\n",
       "Name: a, dtype: int64"
      ]
     },
     "execution_count": 90,
     "metadata": {},
     "output_type": "execute_result"
    }
   ],
   "source": [
    "df[\"a\"].value_counts()"
   ]
  },
  {
   "cell_type": "code",
   "execution_count": 91,
   "id": "fc135ab8-0d42-4cae-9a93-6cd6c4ae1810",
   "metadata": {},
   "outputs": [
    {
     "data": {
      "text/plain": [
       "array([0, 1])"
      ]
     },
     "execution_count": 91,
     "metadata": {},
     "output_type": "execute_result"
    }
   ],
   "source": [
    "df[\"a\"].unique()"
   ]
  },
  {
   "cell_type": "code",
   "execution_count": 92,
   "id": "43f3b7c6-9521-45e5-ac13-63a73a922691",
   "metadata": {},
   "outputs": [
    {
     "data": {
      "text/plain": [
       "2    3\n",
       "5    3\n",
       "1    2\n",
       "0    1\n",
       "3    1\n",
       "4    1\n",
       "Name: b, dtype: int64"
      ]
     },
     "execution_count": 92,
     "metadata": {},
     "output_type": "execute_result"
    }
   ],
   "source": [
    "df[\"b\"].value_counts()"
   ]
  },
  {
   "cell_type": "code",
   "execution_count": 95,
   "id": "7e95c25e-601e-45fa-a115-a03877623dee",
   "metadata": {},
   "outputs": [
    {
     "data": {
      "text/plain": [
       "test2    4\n",
       "2        3\n",
       "test1    2\n",
       "NaN      1\n",
       "test3    1\n",
       "Name: c, dtype: int64"
      ]
     },
     "execution_count": 95,
     "metadata": {},
     "output_type": "execute_result"
    }
   ],
   "source": [
    "df[\"c\"].value_counts(dropna=False)"
   ]
  },
  {
   "cell_type": "code",
   "execution_count": 98,
   "id": "95c23bbd-f61a-4974-91dd-2cd67b6e9e11",
   "metadata": {},
   "outputs": [
    {
     "data": {
      "text/plain": [
       "Index(['a', 'b', 'c'], dtype='object')"
      ]
     },
     "execution_count": 98,
     "metadata": {},
     "output_type": "execute_result"
    }
   ],
   "source": [
    "df.columns"
   ]
  },
  {
   "cell_type": "code",
   "execution_count": 104,
   "id": "9b48ac40-0987-4941-8f0f-6494b5e5f05e",
   "metadata": {},
   "outputs": [
    {
     "data": {
      "text/plain": [
       "'funny funny funny funny funny funny funny funny funny funny funny funny funny funny funny funny funny funny funny funny funny funny funny funny funny funny funny funny funny funny funny funny funny funny funny funny funny funny funny funny funny funny funny funny funny funny funny funny funny funny '"
      ]
     },
     "execution_count": 104,
     "metadata": {},
     "output_type": "execute_result"
    }
   ],
   "source": [
    "\"funny \"*50"
   ]
  },
  {
   "cell_type": "code",
   "execution_count": 103,
   "id": "c0b100c6-53d3-4e88-8b5a-f00a87306240",
   "metadata": {},
   "outputs": [
    {
     "name": "stdout",
     "output_type": "stream",
     "text": [
      "==================================================\n",
      "Column name is  a\n",
      "1    7\n",
      "0    4\n",
      "Name: a, dtype: int64\n",
      "==================================================\n",
      "Column name is  b\n",
      "2    3\n",
      "5    3\n",
      "1    2\n",
      "0    1\n",
      "3    1\n",
      "4    1\n",
      "Name: b, dtype: int64\n",
      "==================================================\n",
      "Column name is  c\n",
      "test2    4\n",
      "2        3\n",
      "test1    2\n",
      "test3    1\n",
      "Name: c, dtype: int64\n"
     ]
    }
   ],
   "source": [
    "for c in df.columns:\n",
    "    print(\"=\"*50)\n",
    "    print(f\"Column name is  {c}\")\n",
    "    print(df[c].value_counts())"
   ]
  },
  {
   "cell_type": "markdown",
   "id": "bc7ff30c-e184-40fa-8917-599de1a980e8",
   "metadata": {},
   "source": [
    "### Problem\n",
    "Explore \"b\" and \"c\" columns"
   ]
  },
  {
   "cell_type": "markdown",
   "id": "0d069274-aba3-44ca-887c-ab998c7f91f3",
   "metadata": {},
   "source": [
    "## simple cross tab"
   ]
  },
  {
   "cell_type": "code",
   "execution_count": 108,
   "id": "bac537bf-99ec-4f0f-bbbb-65263e7250ef",
   "metadata": {},
   "outputs": [
    {
     "data": {
      "text/html": [
       "<div>\n",
       "<style scoped>\n",
       "    .dataframe tbody tr th:only-of-type {\n",
       "        vertical-align: middle;\n",
       "    }\n",
       "\n",
       "    .dataframe tbody tr th {\n",
       "        vertical-align: top;\n",
       "    }\n",
       "\n",
       "    .dataframe thead th {\n",
       "        text-align: right;\n",
       "    }\n",
       "</style>\n",
       "<table border=\"1\" class=\"dataframe\">\n",
       "  <thead>\n",
       "    <tr style=\"text-align: right;\">\n",
       "      <th>c</th>\n",
       "      <th>2</th>\n",
       "      <th>NAN</th>\n",
       "      <th>test1</th>\n",
       "      <th>test2</th>\n",
       "      <th>test3</th>\n",
       "    </tr>\n",
       "    <tr>\n",
       "      <th>a</th>\n",
       "      <th></th>\n",
       "      <th></th>\n",
       "      <th></th>\n",
       "      <th></th>\n",
       "      <th></th>\n",
       "    </tr>\n",
       "  </thead>\n",
       "  <tbody>\n",
       "    <tr>\n",
       "      <th>0</th>\n",
       "      <td>2</td>\n",
       "      <td>0</td>\n",
       "      <td>1</td>\n",
       "      <td>0</td>\n",
       "      <td>1</td>\n",
       "    </tr>\n",
       "    <tr>\n",
       "      <th>1</th>\n",
       "      <td>1</td>\n",
       "      <td>1</td>\n",
       "      <td>1</td>\n",
       "      <td>4</td>\n",
       "      <td>0</td>\n",
       "    </tr>\n",
       "  </tbody>\n",
       "</table>\n",
       "</div>"
      ],
      "text/plain": [
       "c  2  NAN  test1  test2  test3\n",
       "a                             \n",
       "0  2    0      1      0      1\n",
       "1  1    1      1      4      0"
      ]
     },
     "metadata": {},
     "output_type": "display_data"
    },
    {
     "name": "stdout",
     "output_type": "stream",
     "text": [
      "a,2,NAN,test1,test2,test3\n",
      "0,2,0,1,0,1\n",
      "1,1,1,1,4,0\n",
      "\n"
     ]
    }
   ],
   "source": [
    "df = df.fillna(\"NAN\")\n",
    "table = pd.crosstab(df[\"a\"], df[\"c\"])\n",
    "display(table)\n",
    "print(table.to_csv())"
   ]
  },
  {
   "cell_type": "code",
   "execution_count": 109,
   "id": "0b2d8e64-3661-478d-ac05-4a279af013d3",
   "metadata": {},
   "outputs": [
    {
     "data": {
      "text/html": [
       "<div>\n",
       "<style scoped>\n",
       "    .dataframe tbody tr th:only-of-type {\n",
       "        vertical-align: middle;\n",
       "    }\n",
       "\n",
       "    .dataframe tbody tr th {\n",
       "        vertical-align: top;\n",
       "    }\n",
       "\n",
       "    .dataframe thead th {\n",
       "        text-align: right;\n",
       "    }\n",
       "</style>\n",
       "<table border=\"1\" class=\"dataframe\">\n",
       "  <thead>\n",
       "    <tr style=\"text-align: right;\">\n",
       "      <th>c</th>\n",
       "      <th>2</th>\n",
       "      <th>NAN</th>\n",
       "      <th>test1</th>\n",
       "      <th>test2</th>\n",
       "      <th>test3</th>\n",
       "    </tr>\n",
       "    <tr>\n",
       "      <th>b</th>\n",
       "      <th></th>\n",
       "      <th></th>\n",
       "      <th></th>\n",
       "      <th></th>\n",
       "      <th></th>\n",
       "    </tr>\n",
       "  </thead>\n",
       "  <tbody>\n",
       "    <tr>\n",
       "      <th>0</th>\n",
       "      <td>0</td>\n",
       "      <td>0</td>\n",
       "      <td>0</td>\n",
       "      <td>1</td>\n",
       "      <td>0</td>\n",
       "    </tr>\n",
       "    <tr>\n",
       "      <th>1</th>\n",
       "      <td>1</td>\n",
       "      <td>0</td>\n",
       "      <td>1</td>\n",
       "      <td>0</td>\n",
       "      <td>0</td>\n",
       "    </tr>\n",
       "    <tr>\n",
       "      <th>2</th>\n",
       "      <td>1</td>\n",
       "      <td>0</td>\n",
       "      <td>0</td>\n",
       "      <td>1</td>\n",
       "      <td>1</td>\n",
       "    </tr>\n",
       "    <tr>\n",
       "      <th>3</th>\n",
       "      <td>0</td>\n",
       "      <td>0</td>\n",
       "      <td>0</td>\n",
       "      <td>1</td>\n",
       "      <td>0</td>\n",
       "    </tr>\n",
       "    <tr>\n",
       "      <th>4</th>\n",
       "      <td>0</td>\n",
       "      <td>1</td>\n",
       "      <td>0</td>\n",
       "      <td>0</td>\n",
       "      <td>0</td>\n",
       "    </tr>\n",
       "    <tr>\n",
       "      <th>5</th>\n",
       "      <td>1</td>\n",
       "      <td>0</td>\n",
       "      <td>1</td>\n",
       "      <td>1</td>\n",
       "      <td>0</td>\n",
       "    </tr>\n",
       "  </tbody>\n",
       "</table>\n",
       "</div>"
      ],
      "text/plain": [
       "c  2  NAN  test1  test2  test3\n",
       "b                             \n",
       "0  0    0      0      1      0\n",
       "1  1    0      1      0      0\n",
       "2  1    0      0      1      1\n",
       "3  0    0      0      1      0\n",
       "4  0    1      0      0      0\n",
       "5  1    0      1      1      0"
      ]
     },
     "execution_count": 109,
     "metadata": {},
     "output_type": "execute_result"
    }
   ],
   "source": [
    "pd.crosstab(df[\"b\"], df[\"c\"])"
   ]
  },
  {
   "cell_type": "code",
   "execution_count": 121,
   "id": "bf3aa5f4-2138-4534-83bc-4278a6a02cbc",
   "metadata": {},
   "outputs": [
    {
     "data": {
      "text/html": [
       "<div>\n",
       "<style scoped>\n",
       "    .dataframe tbody tr th:only-of-type {\n",
       "        vertical-align: middle;\n",
       "    }\n",
       "\n",
       "    .dataframe tbody tr th {\n",
       "        vertical-align: top;\n",
       "    }\n",
       "\n",
       "    .dataframe thead th {\n",
       "        text-align: right;\n",
       "    }\n",
       "</style>\n",
       "<table border=\"1\" class=\"dataframe\">\n",
       "  <thead>\n",
       "    <tr style=\"text-align: right;\">\n",
       "      <th>c</th>\n",
       "      <th>2</th>\n",
       "      <th>NAN</th>\n",
       "      <th>test1</th>\n",
       "      <th>test2</th>\n",
       "      <th>test3</th>\n",
       "    </tr>\n",
       "    <tr>\n",
       "      <th>a</th>\n",
       "      <th></th>\n",
       "      <th></th>\n",
       "      <th></th>\n",
       "      <th></th>\n",
       "      <th></th>\n",
       "    </tr>\n",
       "  </thead>\n",
       "  <tbody>\n",
       "    <tr>\n",
       "      <th>0</th>\n",
       "      <td>2</td>\n",
       "      <td>0</td>\n",
       "      <td>1</td>\n",
       "      <td>0</td>\n",
       "      <td>1</td>\n",
       "    </tr>\n",
       "    <tr>\n",
       "      <th>1</th>\n",
       "      <td>1</td>\n",
       "      <td>1</td>\n",
       "      <td>1</td>\n",
       "      <td>4</td>\n",
       "      <td>0</td>\n",
       "    </tr>\n",
       "  </tbody>\n",
       "</table>\n",
       "</div>"
      ],
      "text/plain": [
       "c  2  NAN  test1  test2  test3\n",
       "a                             \n",
       "0  2    0      1      0      1\n",
       "1  1    1      1      4      0"
      ]
     },
     "execution_count": 121,
     "metadata": {},
     "output_type": "execute_result"
    }
   ],
   "source": [
    "table"
   ]
  },
  {
   "cell_type": "code",
   "execution_count": 122,
   "id": "86e14631-dfee-4a57-920c-fcc71253a253",
   "metadata": {},
   "outputs": [
    {
     "data": {
      "text/html": [
       "<div>\n",
       "<style scoped>\n",
       "    .dataframe tbody tr th:only-of-type {\n",
       "        vertical-align: middle;\n",
       "    }\n",
       "\n",
       "    .dataframe tbody tr th {\n",
       "        vertical-align: top;\n",
       "    }\n",
       "\n",
       "    .dataframe thead th {\n",
       "        text-align: right;\n",
       "    }\n",
       "</style>\n",
       "<table border=\"1\" class=\"dataframe\">\n",
       "  <thead>\n",
       "    <tr style=\"text-align: right;\">\n",
       "      <th>c</th>\n",
       "      <th>2</th>\n",
       "      <th>NAN</th>\n",
       "      <th>test1</th>\n",
       "      <th>test2</th>\n",
       "      <th>test3</th>\n",
       "    </tr>\n",
       "    <tr>\n",
       "      <th>a</th>\n",
       "      <th></th>\n",
       "      <th></th>\n",
       "      <th></th>\n",
       "      <th></th>\n",
       "      <th></th>\n",
       "    </tr>\n",
       "  </thead>\n",
       "  <tbody>\n",
       "    <tr>\n",
       "      <th>0</th>\n",
       "      <td>50.00</td>\n",
       "      <td>0.00</td>\n",
       "      <td>25.00</td>\n",
       "      <td>0.00</td>\n",
       "      <td>25.0</td>\n",
       "    </tr>\n",
       "    <tr>\n",
       "      <th>1</th>\n",
       "      <td>14.29</td>\n",
       "      <td>14.29</td>\n",
       "      <td>14.29</td>\n",
       "      <td>57.14</td>\n",
       "      <td>0.0</td>\n",
       "    </tr>\n",
       "  </tbody>\n",
       "</table>\n",
       "</div>"
      ],
      "text/plain": [
       "c      2    NAN  test1  test2  test3\n",
       "a                                   \n",
       "0  50.00   0.00  25.00   0.00   25.0\n",
       "1  14.29  14.29  14.29  57.14    0.0"
      ]
     },
     "execution_count": 122,
     "metadata": {},
     "output_type": "execute_result"
    }
   ],
   "source": [
    "table_per"
   ]
  },
  {
   "cell_type": "code",
   "execution_count": 131,
   "id": "6704950a-83ca-4902-be9d-4ddc9006c8b4",
   "metadata": {},
   "outputs": [
    {
     "data": {
      "text/html": [
       "<div>\n",
       "<style scoped>\n",
       "    .dataframe tbody tr th:only-of-type {\n",
       "        vertical-align: middle;\n",
       "    }\n",
       "\n",
       "    .dataframe tbody tr th {\n",
       "        vertical-align: top;\n",
       "    }\n",
       "\n",
       "    .dataframe thead th {\n",
       "        text-align: right;\n",
       "    }\n",
       "</style>\n",
       "<table border=\"1\" class=\"dataframe\">\n",
       "  <thead>\n",
       "    <tr style=\"text-align: right;\">\n",
       "      <th>c</th>\n",
       "      <th>2</th>\n",
       "      <th>NAN</th>\n",
       "      <th>test1</th>\n",
       "      <th>test2</th>\n",
       "      <th>test3</th>\n",
       "    </tr>\n",
       "    <tr>\n",
       "      <th>a</th>\n",
       "      <th></th>\n",
       "      <th></th>\n",
       "      <th></th>\n",
       "      <th></th>\n",
       "      <th></th>\n",
       "    </tr>\n",
       "  </thead>\n",
       "  <tbody>\n",
       "    <tr>\n",
       "      <th>0</th>\n",
       "      <td>2 ( 50.0)</td>\n",
       "      <td>0 ( 0.0)</td>\n",
       "      <td>1 ( 25.0)</td>\n",
       "      <td>0 ( 0.0)</td>\n",
       "      <td>1 ( 25.0)</td>\n",
       "    </tr>\n",
       "    <tr>\n",
       "      <th>1</th>\n",
       "      <td>1 ( 14.29)</td>\n",
       "      <td>1 ( 14.29)</td>\n",
       "      <td>1 ( 14.29)</td>\n",
       "      <td>4 ( 57.14)</td>\n",
       "      <td>0 ( 0.0)</td>\n",
       "    </tr>\n",
       "  </tbody>\n",
       "</table>\n",
       "</div>"
      ],
      "text/plain": [
       "c           2         NAN       test1       test2      test3\n",
       "a                                                           \n",
       "0   2 ( 50.0)    0 ( 0.0)   1 ( 25.0)    0 ( 0.0)  1 ( 25.0)\n",
       "1  1 ( 14.29)  1 ( 14.29)  1 ( 14.29)  4 ( 57.14)   0 ( 0.0)"
      ]
     },
     "execution_count": 131,
     "metadata": {},
     "output_type": "execute_result"
    }
   ],
   "source": [
    "table_concat = table.astype(str) + \" ( \" + table_per.astype(str) + \")\"\n",
    "table_concat"
   ]
  },
  {
   "cell_type": "code",
   "execution_count": 133,
   "id": "745564d3-39d6-47df-86d1-a89bcb703f74",
   "metadata": {},
   "outputs": [
    {
     "name": "stdout",
     "output_type": "stream",
     "text": [
      "==================================================\n",
      " a and a\n"
     ]
    },
    {
     "data": {
      "text/html": [
       "<div>\n",
       "<style scoped>\n",
       "    .dataframe tbody tr th:only-of-type {\n",
       "        vertical-align: middle;\n",
       "    }\n",
       "\n",
       "    .dataframe tbody tr th {\n",
       "        vertical-align: top;\n",
       "    }\n",
       "\n",
       "    .dataframe thead th {\n",
       "        text-align: right;\n",
       "    }\n",
       "</style>\n",
       "<table border=\"1\" class=\"dataframe\">\n",
       "  <thead>\n",
       "    <tr style=\"text-align: right;\">\n",
       "      <th>a</th>\n",
       "      <th>0</th>\n",
       "      <th>1</th>\n",
       "    </tr>\n",
       "    <tr>\n",
       "      <th>a</th>\n",
       "      <th></th>\n",
       "      <th></th>\n",
       "    </tr>\n",
       "  </thead>\n",
       "  <tbody>\n",
       "    <tr>\n",
       "      <th>0</th>\n",
       "      <td>4 ( 100.0)</td>\n",
       "      <td>0 ( 0.0)</td>\n",
       "    </tr>\n",
       "    <tr>\n",
       "      <th>1</th>\n",
       "      <td>0 ( 0.0)</td>\n",
       "      <td>7 ( 100.0)</td>\n",
       "    </tr>\n",
       "  </tbody>\n",
       "</table>\n",
       "</div>"
      ],
      "text/plain": [
       "a           0           1\n",
       "a                        \n",
       "0  4 ( 100.0)    0 ( 0.0)\n",
       "1    0 ( 0.0)  7 ( 100.0)"
      ]
     },
     "metadata": {},
     "output_type": "display_data"
    },
    {
     "name": "stdout",
     "output_type": "stream",
     "text": [
      "==================================================\n",
      " a and b\n"
     ]
    },
    {
     "data": {
      "text/html": [
       "<div>\n",
       "<style scoped>\n",
       "    .dataframe tbody tr th:only-of-type {\n",
       "        vertical-align: middle;\n",
       "    }\n",
       "\n",
       "    .dataframe tbody tr th {\n",
       "        vertical-align: top;\n",
       "    }\n",
       "\n",
       "    .dataframe thead th {\n",
       "        text-align: right;\n",
       "    }\n",
       "</style>\n",
       "<table border=\"1\" class=\"dataframe\">\n",
       "  <thead>\n",
       "    <tr style=\"text-align: right;\">\n",
       "      <th>b</th>\n",
       "      <th>0</th>\n",
       "      <th>1</th>\n",
       "      <th>2</th>\n",
       "      <th>3</th>\n",
       "      <th>4</th>\n",
       "      <th>5</th>\n",
       "    </tr>\n",
       "    <tr>\n",
       "      <th>a</th>\n",
       "      <th></th>\n",
       "      <th></th>\n",
       "      <th></th>\n",
       "      <th></th>\n",
       "      <th></th>\n",
       "      <th></th>\n",
       "    </tr>\n",
       "  </thead>\n",
       "  <tbody>\n",
       "    <tr>\n",
       "      <th>0</th>\n",
       "      <td>0 ( 0.0)</td>\n",
       "      <td>1 ( 50.0)</td>\n",
       "      <td>2 ( 66.67)</td>\n",
       "      <td>0 ( 0.0)</td>\n",
       "      <td>0 ( 0.0)</td>\n",
       "      <td>1 ( 33.33)</td>\n",
       "    </tr>\n",
       "    <tr>\n",
       "      <th>1</th>\n",
       "      <td>1 ( 100.0)</td>\n",
       "      <td>1 ( 50.0)</td>\n",
       "      <td>1 ( 33.33)</td>\n",
       "      <td>1 ( 100.0)</td>\n",
       "      <td>1 ( 100.0)</td>\n",
       "      <td>2 ( 66.67)</td>\n",
       "    </tr>\n",
       "  </tbody>\n",
       "</table>\n",
       "</div>"
      ],
      "text/plain": [
       "b           0          1           2           3           4           5\n",
       "a                                                                       \n",
       "0    0 ( 0.0)  1 ( 50.0)  2 ( 66.67)    0 ( 0.0)    0 ( 0.0)  1 ( 33.33)\n",
       "1  1 ( 100.0)  1 ( 50.0)  1 ( 33.33)  1 ( 100.0)  1 ( 100.0)  2 ( 66.67)"
      ]
     },
     "metadata": {},
     "output_type": "display_data"
    },
    {
     "name": "stdout",
     "output_type": "stream",
     "text": [
      "==================================================\n",
      " a and c\n"
     ]
    },
    {
     "data": {
      "text/html": [
       "<div>\n",
       "<style scoped>\n",
       "    .dataframe tbody tr th:only-of-type {\n",
       "        vertical-align: middle;\n",
       "    }\n",
       "\n",
       "    .dataframe tbody tr th {\n",
       "        vertical-align: top;\n",
       "    }\n",
       "\n",
       "    .dataframe thead th {\n",
       "        text-align: right;\n",
       "    }\n",
       "</style>\n",
       "<table border=\"1\" class=\"dataframe\">\n",
       "  <thead>\n",
       "    <tr style=\"text-align: right;\">\n",
       "      <th>c</th>\n",
       "      <th>2</th>\n",
       "      <th>NAN</th>\n",
       "      <th>test1</th>\n",
       "      <th>test2</th>\n",
       "      <th>test3</th>\n",
       "    </tr>\n",
       "    <tr>\n",
       "      <th>a</th>\n",
       "      <th></th>\n",
       "      <th></th>\n",
       "      <th></th>\n",
       "      <th></th>\n",
       "      <th></th>\n",
       "    </tr>\n",
       "  </thead>\n",
       "  <tbody>\n",
       "    <tr>\n",
       "      <th>0</th>\n",
       "      <td>2 ( 66.67)</td>\n",
       "      <td>0 ( 0.0)</td>\n",
       "      <td>1 ( 50.0)</td>\n",
       "      <td>0 ( 0.0)</td>\n",
       "      <td>1 ( 100.0)</td>\n",
       "    </tr>\n",
       "    <tr>\n",
       "      <th>1</th>\n",
       "      <td>1 ( 33.33)</td>\n",
       "      <td>1 ( 100.0)</td>\n",
       "      <td>1 ( 50.0)</td>\n",
       "      <td>4 ( 100.0)</td>\n",
       "      <td>0 ( 0.0)</td>\n",
       "    </tr>\n",
       "  </tbody>\n",
       "</table>\n",
       "</div>"
      ],
      "text/plain": [
       "c           2         NAN      test1       test2       test3\n",
       "a                                                           \n",
       "0  2 ( 66.67)    0 ( 0.0)  1 ( 50.0)    0 ( 0.0)  1 ( 100.0)\n",
       "1  1 ( 33.33)  1 ( 100.0)  1 ( 50.0)  4 ( 100.0)    0 ( 0.0)"
      ]
     },
     "metadata": {},
     "output_type": "display_data"
    }
   ],
   "source": [
    "for c in df.columns:\n",
    "    print(\"=\"*50)\n",
    "    print(f\" a and {c}\")\n",
    "    table = pd.crosstab(df[\"a\"], df[c])\n",
    "    table_per = pd.crosstab(df[\"a\"], df[c], normalize='columns')*100\n",
    "    table_per = table_per.round(2)\n",
    "    table_concat = table.astype(str) + \" ( \" + table_per.astype(str) + \")\"\n",
    "    display(table_concat)\n",
    "    "
   ]
  },
  {
   "cell_type": "code",
   "execution_count": 157,
   "id": "d054e9da-a64f-4976-8d44-a9cc9edff758",
   "metadata": {},
   "outputs": [],
   "source": [
    "df = pd.DataFrame({\n",
    "    \"x\": np.random.randint(low=0,high=4,size=1000),\n",
    "    \"y\": np.random.randint(low=10, high=14, size=1000),\n",
    "    \"z\": np.random.randint(low=1000, high=1005, size=1000)\n",
    "    })"
   ]
  },
  {
   "cell_type": "code",
   "execution_count": 158,
   "id": "8ce40262-d33c-49d1-a59c-169d6fe9b4ac",
   "metadata": {},
   "outputs": [
    {
     "data": {
      "text/html": [
       "<div>\n",
       "<style scoped>\n",
       "    .dataframe tbody tr th:only-of-type {\n",
       "        vertical-align: middle;\n",
       "    }\n",
       "\n",
       "    .dataframe tbody tr th {\n",
       "        vertical-align: top;\n",
       "    }\n",
       "\n",
       "    .dataframe thead th {\n",
       "        text-align: right;\n",
       "    }\n",
       "</style>\n",
       "<table border=\"1\" class=\"dataframe\">\n",
       "  <thead>\n",
       "    <tr style=\"text-align: right;\">\n",
       "      <th></th>\n",
       "      <th>x</th>\n",
       "      <th>y</th>\n",
       "      <th>z</th>\n",
       "    </tr>\n",
       "  </thead>\n",
       "  <tbody>\n",
       "    <tr>\n",
       "      <th>0</th>\n",
       "      <td>3</td>\n",
       "      <td>10</td>\n",
       "      <td>1000</td>\n",
       "    </tr>\n",
       "    <tr>\n",
       "      <th>1</th>\n",
       "      <td>0</td>\n",
       "      <td>11</td>\n",
       "      <td>1004</td>\n",
       "    </tr>\n",
       "    <tr>\n",
       "      <th>2</th>\n",
       "      <td>0</td>\n",
       "      <td>10</td>\n",
       "      <td>1000</td>\n",
       "    </tr>\n",
       "    <tr>\n",
       "      <th>3</th>\n",
       "      <td>3</td>\n",
       "      <td>11</td>\n",
       "      <td>1000</td>\n",
       "    </tr>\n",
       "    <tr>\n",
       "      <th>4</th>\n",
       "      <td>1</td>\n",
       "      <td>11</td>\n",
       "      <td>1003</td>\n",
       "    </tr>\n",
       "    <tr>\n",
       "      <th>...</th>\n",
       "      <td>...</td>\n",
       "      <td>...</td>\n",
       "      <td>...</td>\n",
       "    </tr>\n",
       "    <tr>\n",
       "      <th>995</th>\n",
       "      <td>3</td>\n",
       "      <td>13</td>\n",
       "      <td>1004</td>\n",
       "    </tr>\n",
       "    <tr>\n",
       "      <th>996</th>\n",
       "      <td>3</td>\n",
       "      <td>11</td>\n",
       "      <td>1003</td>\n",
       "    </tr>\n",
       "    <tr>\n",
       "      <th>997</th>\n",
       "      <td>0</td>\n",
       "      <td>13</td>\n",
       "      <td>1002</td>\n",
       "    </tr>\n",
       "    <tr>\n",
       "      <th>998</th>\n",
       "      <td>1</td>\n",
       "      <td>10</td>\n",
       "      <td>1002</td>\n",
       "    </tr>\n",
       "    <tr>\n",
       "      <th>999</th>\n",
       "      <td>2</td>\n",
       "      <td>13</td>\n",
       "      <td>1001</td>\n",
       "    </tr>\n",
       "  </tbody>\n",
       "</table>\n",
       "<p>1000 rows × 3 columns</p>\n",
       "</div>"
      ],
      "text/plain": [
       "     x   y     z\n",
       "0    3  10  1000\n",
       "1    0  11  1004\n",
       "2    0  10  1000\n",
       "3    3  11  1000\n",
       "4    1  11  1003\n",
       "..  ..  ..   ...\n",
       "995  3  13  1004\n",
       "996  3  11  1003\n",
       "997  0  13  1002\n",
       "998  1  10  1002\n",
       "999  2  13  1001\n",
       "\n",
       "[1000 rows x 3 columns]"
      ]
     },
     "execution_count": 158,
     "metadata": {},
     "output_type": "execute_result"
    }
   ],
   "source": [
    "df"
   ]
  },
  {
   "cell_type": "code",
   "execution_count": 159,
   "id": "310c7b87-949c-4908-8ea9-3972508b1a61",
   "metadata": {},
   "outputs": [
    {
     "data": {
      "text/html": [
       "<div>\n",
       "<style scoped>\n",
       "    .dataframe tbody tr th:only-of-type {\n",
       "        vertical-align: middle;\n",
       "    }\n",
       "\n",
       "    .dataframe tbody tr th {\n",
       "        vertical-align: top;\n",
       "    }\n",
       "\n",
       "    .dataframe thead th {\n",
       "        text-align: right;\n",
       "    }\n",
       "</style>\n",
       "<table border=\"1\" class=\"dataframe\">\n",
       "  <thead>\n",
       "    <tr style=\"text-align: right;\">\n",
       "      <th>y</th>\n",
       "      <th>10</th>\n",
       "      <th>11</th>\n",
       "      <th>12</th>\n",
       "      <th>13</th>\n",
       "    </tr>\n",
       "    <tr>\n",
       "      <th>x</th>\n",
       "      <th></th>\n",
       "      <th></th>\n",
       "      <th></th>\n",
       "      <th></th>\n",
       "    </tr>\n",
       "  </thead>\n",
       "  <tbody>\n",
       "    <tr>\n",
       "      <th>0</th>\n",
       "      <td>56</td>\n",
       "      <td>71</td>\n",
       "      <td>66</td>\n",
       "      <td>69</td>\n",
       "    </tr>\n",
       "    <tr>\n",
       "      <th>1</th>\n",
       "      <td>72</td>\n",
       "      <td>44</td>\n",
       "      <td>64</td>\n",
       "      <td>71</td>\n",
       "    </tr>\n",
       "    <tr>\n",
       "      <th>2</th>\n",
       "      <td>51</td>\n",
       "      <td>72</td>\n",
       "      <td>75</td>\n",
       "      <td>60</td>\n",
       "    </tr>\n",
       "    <tr>\n",
       "      <th>3</th>\n",
       "      <td>67</td>\n",
       "      <td>55</td>\n",
       "      <td>59</td>\n",
       "      <td>48</td>\n",
       "    </tr>\n",
       "  </tbody>\n",
       "</table>\n",
       "</div>"
      ],
      "text/plain": [
       "y  10  11  12  13\n",
       "x                \n",
       "0  56  71  66  69\n",
       "1  72  44  64  71\n",
       "2  51  72  75  60\n",
       "3  67  55  59  48"
      ]
     },
     "metadata": {},
     "output_type": "display_data"
    }
   ],
   "source": [
    "table = pd.crosstab(df[\"x\"], df[\"y\"])\n",
    "display(table)"
   ]
  },
  {
   "cell_type": "code",
   "execution_count": 160,
   "id": "8169d871-53b9-4aec-8b5a-380fdc4c3ceb",
   "metadata": {},
   "outputs": [
    {
     "data": {
      "text/html": [
       "<div>\n",
       "<style scoped>\n",
       "    .dataframe tbody tr th:only-of-type {\n",
       "        vertical-align: middle;\n",
       "    }\n",
       "\n",
       "    .dataframe tbody tr th {\n",
       "        vertical-align: top;\n",
       "    }\n",
       "\n",
       "    .dataframe thead th {\n",
       "        text-align: right;\n",
       "    }\n",
       "</style>\n",
       "<table border=\"1\" class=\"dataframe\">\n",
       "  <thead>\n",
       "    <tr style=\"text-align: right;\">\n",
       "      <th>y</th>\n",
       "      <th>10</th>\n",
       "      <th>11</th>\n",
       "      <th>12</th>\n",
       "      <th>13</th>\n",
       "    </tr>\n",
       "    <tr>\n",
       "      <th>x</th>\n",
       "      <th></th>\n",
       "      <th></th>\n",
       "      <th></th>\n",
       "      <th></th>\n",
       "    </tr>\n",
       "  </thead>\n",
       "  <tbody>\n",
       "    <tr>\n",
       "      <th>0</th>\n",
       "      <td>0.213740</td>\n",
       "      <td>0.270992</td>\n",
       "      <td>0.251908</td>\n",
       "      <td>0.263359</td>\n",
       "    </tr>\n",
       "    <tr>\n",
       "      <th>1</th>\n",
       "      <td>0.286853</td>\n",
       "      <td>0.175299</td>\n",
       "      <td>0.254980</td>\n",
       "      <td>0.282869</td>\n",
       "    </tr>\n",
       "    <tr>\n",
       "      <th>2</th>\n",
       "      <td>0.197674</td>\n",
       "      <td>0.279070</td>\n",
       "      <td>0.290698</td>\n",
       "      <td>0.232558</td>\n",
       "    </tr>\n",
       "    <tr>\n",
       "      <th>3</th>\n",
       "      <td>0.292576</td>\n",
       "      <td>0.240175</td>\n",
       "      <td>0.257642</td>\n",
       "      <td>0.209607</td>\n",
       "    </tr>\n",
       "  </tbody>\n",
       "</table>\n",
       "</div>"
      ],
      "text/plain": [
       "y        10        11        12        13\n",
       "x                                        \n",
       "0  0.213740  0.270992  0.251908  0.263359\n",
       "1  0.286853  0.175299  0.254980  0.282869\n",
       "2  0.197674  0.279070  0.290698  0.232558\n",
       "3  0.292576  0.240175  0.257642  0.209607"
      ]
     },
     "metadata": {},
     "output_type": "display_data"
    },
    {
     "data": {
      "text/plain": [
       "x\n",
       "0    1.0\n",
       "1    1.0\n",
       "2    1.0\n",
       "3    1.0\n",
       "dtype: float64"
      ]
     },
     "execution_count": 160,
     "metadata": {},
     "output_type": "execute_result"
    }
   ],
   "source": [
    "table_per = pd.crosstab(df[\"x\"], df[\"y\"], normalize=0)\n",
    "display(table_per)\n",
    "table_per.sum(axis=1)"
   ]
  },
  {
   "cell_type": "markdown",
   "id": "a490380e-8b20-4fef-9b7c-7596cf93a219",
   "metadata": {},
   "source": [
    "### Tips \n",
    "get multiple tables to one sheet."
   ]
  },
  {
   "cell_type": "code",
   "execution_count": 161,
   "id": "e825be5c-1a30-427a-a37b-089081ec30f9",
   "metadata": {},
   "outputs": [
    {
     "data": {
      "text/plain": [
       "Index(['x', 'y', 'z'], dtype='object')"
      ]
     },
     "execution_count": 161,
     "metadata": {},
     "output_type": "execute_result"
    }
   ],
   "source": [
    "df.columns"
   ]
  },
  {
   "cell_type": "code",
   "execution_count": 162,
   "id": "0a7ebf5a-b680-4b85-9225-91aab0ac1283",
   "metadata": {},
   "outputs": [],
   "source": [
    "cols = ['x', 'y', 'z']"
   ]
  },
  {
   "cell_type": "code",
   "execution_count": 163,
   "id": "5791d4a4-83d0-4c64-8db7-ac799175d445",
   "metadata": {},
   "outputs": [
    {
     "data": {
      "text/plain": [
       "RangeIndex(start=0, stop=1000, step=1)"
      ]
     },
     "execution_count": 163,
     "metadata": {},
     "output_type": "execute_result"
    }
   ],
   "source": [
    "df.index"
   ]
  },
  {
   "cell_type": "code",
   "execution_count": 167,
   "id": "02750e77-6593-4342-98df-1df0c1fefcfa",
   "metadata": {},
   "outputs": [
    {
     "data": {
      "text/html": [
       "<div>\n",
       "<style scoped>\n",
       "    .dataframe tbody tr th:only-of-type {\n",
       "        vertical-align: middle;\n",
       "    }\n",
       "\n",
       "    .dataframe tbody tr th {\n",
       "        vertical-align: top;\n",
       "    }\n",
       "\n",
       "    .dataframe thead th {\n",
       "        text-align: right;\n",
       "    }\n",
       "</style>\n",
       "<table border=\"1\" class=\"dataframe\">\n",
       "  <thead>\n",
       "    <tr style=\"text-align: right;\">\n",
       "      <th>y</th>\n",
       "      <th>10</th>\n",
       "      <th>11</th>\n",
       "      <th>12</th>\n",
       "      <th>13</th>\n",
       "    </tr>\n",
       "    <tr>\n",
       "      <th>x</th>\n",
       "      <th></th>\n",
       "      <th></th>\n",
       "      <th></th>\n",
       "      <th></th>\n",
       "    </tr>\n",
       "  </thead>\n",
       "  <tbody>\n",
       "    <tr>\n",
       "      <th>0</th>\n",
       "      <td>56</td>\n",
       "      <td>71</td>\n",
       "      <td>66</td>\n",
       "      <td>69</td>\n",
       "    </tr>\n",
       "    <tr>\n",
       "      <th>1</th>\n",
       "      <td>72</td>\n",
       "      <td>44</td>\n",
       "      <td>64</td>\n",
       "      <td>71</td>\n",
       "    </tr>\n",
       "    <tr>\n",
       "      <th>2</th>\n",
       "      <td>51</td>\n",
       "      <td>72</td>\n",
       "      <td>75</td>\n",
       "      <td>60</td>\n",
       "    </tr>\n",
       "    <tr>\n",
       "      <th>3</th>\n",
       "      <td>67</td>\n",
       "      <td>55</td>\n",
       "      <td>59</td>\n",
       "      <td>48</td>\n",
       "    </tr>\n",
       "  </tbody>\n",
       "</table>\n",
       "</div>"
      ],
      "text/plain": [
       "y  10  11  12  13\n",
       "x                \n",
       "0  56  71  66  69\n",
       "1  72  44  64  71\n",
       "2  51  72  75  60\n",
       "3  67  55  59  48"
      ]
     },
     "metadata": {},
     "output_type": "display_data"
    },
    {
     "data": {
      "text/html": [
       "<div>\n",
       "<style scoped>\n",
       "    .dataframe tbody tr th:only-of-type {\n",
       "        vertical-align: middle;\n",
       "    }\n",
       "\n",
       "    .dataframe tbody tr th {\n",
       "        vertical-align: top;\n",
       "    }\n",
       "\n",
       "    .dataframe thead th {\n",
       "        text-align: right;\n",
       "    }\n",
       "</style>\n",
       "<table border=\"1\" class=\"dataframe\">\n",
       "  <thead>\n",
       "    <tr style=\"text-align: right;\">\n",
       "      <th>z</th>\n",
       "      <th>1000</th>\n",
       "      <th>1001</th>\n",
       "      <th>1002</th>\n",
       "      <th>1003</th>\n",
       "      <th>1004</th>\n",
       "    </tr>\n",
       "    <tr>\n",
       "      <th>y</th>\n",
       "      <th></th>\n",
       "      <th></th>\n",
       "      <th></th>\n",
       "      <th></th>\n",
       "      <th></th>\n",
       "    </tr>\n",
       "  </thead>\n",
       "  <tbody>\n",
       "    <tr>\n",
       "      <th>10</th>\n",
       "      <td>55</td>\n",
       "      <td>47</td>\n",
       "      <td>58</td>\n",
       "      <td>40</td>\n",
       "      <td>46</td>\n",
       "    </tr>\n",
       "    <tr>\n",
       "      <th>11</th>\n",
       "      <td>39</td>\n",
       "      <td>48</td>\n",
       "      <td>54</td>\n",
       "      <td>43</td>\n",
       "      <td>58</td>\n",
       "    </tr>\n",
       "    <tr>\n",
       "      <th>12</th>\n",
       "      <td>45</td>\n",
       "      <td>46</td>\n",
       "      <td>54</td>\n",
       "      <td>62</td>\n",
       "      <td>57</td>\n",
       "    </tr>\n",
       "    <tr>\n",
       "      <th>13</th>\n",
       "      <td>51</td>\n",
       "      <td>43</td>\n",
       "      <td>40</td>\n",
       "      <td>56</td>\n",
       "      <td>58</td>\n",
       "    </tr>\n",
       "  </tbody>\n",
       "</table>\n",
       "</div>"
      ],
      "text/plain": [
       "z   1000  1001  1002  1003  1004\n",
       "y                               \n",
       "10    55    47    58    40    46\n",
       "11    39    48    54    43    58\n",
       "12    45    46    54    62    57\n",
       "13    51    43    40    56    58"
      ]
     },
     "metadata": {},
     "output_type": "display_data"
    },
    {
     "data": {
      "text/html": [
       "<div>\n",
       "<style scoped>\n",
       "    .dataframe tbody tr th:only-of-type {\n",
       "        vertical-align: middle;\n",
       "    }\n",
       "\n",
       "    .dataframe tbody tr th {\n",
       "        vertical-align: top;\n",
       "    }\n",
       "\n",
       "    .dataframe thead th {\n",
       "        text-align: right;\n",
       "    }\n",
       "</style>\n",
       "<table border=\"1\" class=\"dataframe\">\n",
       "  <thead>\n",
       "    <tr style=\"text-align: right;\">\n",
       "      <th>z</th>\n",
       "      <th>1000</th>\n",
       "      <th>1001</th>\n",
       "      <th>1002</th>\n",
       "      <th>1003</th>\n",
       "      <th>1004</th>\n",
       "    </tr>\n",
       "    <tr>\n",
       "      <th>x</th>\n",
       "      <th></th>\n",
       "      <th></th>\n",
       "      <th></th>\n",
       "      <th></th>\n",
       "      <th></th>\n",
       "    </tr>\n",
       "  </thead>\n",
       "  <tbody>\n",
       "    <tr>\n",
       "      <th>0</th>\n",
       "      <td>56</td>\n",
       "      <td>42</td>\n",
       "      <td>54</td>\n",
       "      <td>60</td>\n",
       "      <td>50</td>\n",
       "    </tr>\n",
       "    <tr>\n",
       "      <th>1</th>\n",
       "      <td>55</td>\n",
       "      <td>41</td>\n",
       "      <td>55</td>\n",
       "      <td>43</td>\n",
       "      <td>57</td>\n",
       "    </tr>\n",
       "    <tr>\n",
       "      <th>2</th>\n",
       "      <td>36</td>\n",
       "      <td>56</td>\n",
       "      <td>54</td>\n",
       "      <td>53</td>\n",
       "      <td>59</td>\n",
       "    </tr>\n",
       "    <tr>\n",
       "      <th>3</th>\n",
       "      <td>43</td>\n",
       "      <td>45</td>\n",
       "      <td>43</td>\n",
       "      <td>45</td>\n",
       "      <td>53</td>\n",
       "    </tr>\n",
       "  </tbody>\n",
       "</table>\n",
       "</div>"
      ],
      "text/plain": [
       "z  1000  1001  1002  1003  1004\n",
       "x                              \n",
       "0    56    42    54    60    50\n",
       "1    55    41    55    43    57\n",
       "2    36    56    54    53    59\n",
       "3    43    45    43    45    53"
      ]
     },
     "metadata": {},
     "output_type": "display_data"
    }
   ],
   "source": [
    "s = \"\"\n",
    "\n",
    "table = pd.crosstab(df[\"x\"], df[\"y\"])\n",
    "display(table)\n",
    "s += \"x v.s. y\\n\"\n",
    "s += table.to_csv()\n",
    "s += \"\\n\"\n",
    "\n",
    "table = pd.crosstab(df[\"y\"], df[\"z\"])\n",
    "display(table)\n",
    "s += \"y v.s. z\\n\"\n",
    "s += table.to_csv()\n",
    "s += \"\\n\"\n",
    "\n",
    "table = pd.crosstab(df[\"x\"], df[\"z\"])\n",
    "display(table)\n",
    "s += \"x v.s. z\\n\"\n",
    "s += table.to_csv()\n",
    "s += \"\\n\"\n",
    "        "
   ]
  },
  {
   "cell_type": "code",
   "execution_count": 168,
   "id": "9be81b9b-64cb-479b-b14c-f829a00f6f20",
   "metadata": {},
   "outputs": [
    {
     "data": {
      "text/plain": [
       "0      1000\n",
       "1      1004\n",
       "2      1000\n",
       "3      1000\n",
       "4      1003\n",
       "       ... \n",
       "995    1004\n",
       "996    1003\n",
       "997    1002\n",
       "998    1002\n",
       "999    1001\n",
       "Name: z, Length: 1000, dtype: int64"
      ]
     },
     "execution_count": 168,
     "metadata": {},
     "output_type": "execute_result"
    }
   ],
   "source": [
    "df[\"z\"]"
   ]
  },
  {
   "cell_type": "code",
   "execution_count": 169,
   "id": "3600db62-3a3b-47ac-b1f7-22c2392e195e",
   "metadata": {},
   "outputs": [
    {
     "name": "stdout",
     "output_type": "stream",
     "text": [
      "x v.s. y\n",
      "x,10,11,12,13\n",
      "0,56,71,66,69\n",
      "1,72,44,64,71\n",
      "2,51,72,75,60\n",
      "3,67,55,59,48\n",
      "\n",
      "y v.s. z\n",
      "y,1000,1001,1002,1003,1004\n",
      "10,55,47,58,40,46\n",
      "11,39,48,54,43,58\n",
      "12,45,46,54,62,57\n",
      "13,51,43,40,56,58\n",
      "\n",
      "x v.s. z\n",
      "x,1000,1001,1002,1003,1004\n",
      "0,56,42,54,60,50\n",
      "1,55,41,55,43,57\n",
      "2,36,56,54,53,59\n",
      "3,43,45,43,45,53\n",
      "\n",
      "\n"
     ]
    }
   ],
   "source": [
    "print(s)"
   ]
  },
  {
   "cell_type": "code",
   "execution_count": null,
   "id": "78426215-b310-4e49-991e-6a7e656547c7",
   "metadata": {},
   "outputs": [],
   "source": []
  }
 ],
 "metadata": {
  "kernelspec": {
   "display_name": "Python 3",
   "language": "python",
   "name": "python3"
  },
  "language_info": {
   "codemirror_mode": {
    "name": "ipython",
    "version": 3
   },
   "file_extension": ".py",
   "mimetype": "text/x-python",
   "name": "python",
   "nbconvert_exporter": "python",
   "pygments_lexer": "ipython3",
   "version": "3.8.8"
  }
 },
 "nbformat": 4,
 "nbformat_minor": 5
}
